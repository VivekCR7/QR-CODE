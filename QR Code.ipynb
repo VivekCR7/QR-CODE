{
 "cells": [
  {
   "cell_type": "code",
   "execution_count": 1,
   "metadata": {},
   "outputs": [
    {
     "name": "stdout",
     "output_type": "stream",
     "text": [
      "Requirement already satisfied: pyqrcode in /home/pawan/Desktop/Vivek/venv/lib/python3.6/site-packages (1.2.1)\n",
      "Requirement already satisfied: pypng in /home/pawan/Desktop/Vivek/venv/lib/python3.6/site-packages (0.0.20)\n"
     ]
    }
   ],
   "source": [
    "!pip3 install pyqrcode\n",
    "!pip3 install pypng"
   ]
  },
  {
   "cell_type": "code",
   "execution_count": 2,
   "metadata": {},
   "outputs": [],
   "source": [
    "import pyqrcode\n",
    "import png\n",
    "from pyqrcode import QRCode\n",
    "\n",
    "QRstring = \"https://github.com/VivekCR7\"     #any url\n",
    "\n",
    "\n",
    "#generates qr code\n",
    "url = pyqrcode.create(QRstring)\n",
    "\n",
    "#create and save svg file            (Scalable Vector Grapghics)\n",
    "url.svg(\"my.svg\", scale = 8)\n",
    "\n",
    "#create and save png file\n",
    "url.png('my.png', scale = 8)"
   ]
  }
 ],
 "metadata": {
  "kernelspec": {
   "display_name": "Python 3",
   "language": "python",
   "name": "python3"
  },
  "language_info": {
   "codemirror_mode": {
    "name": "ipython",
    "version": 3
   },
   "file_extension": ".py",
   "mimetype": "text/x-python",
   "name": "python",
   "nbconvert_exporter": "python",
   "pygments_lexer": "ipython3",
   "version": "3.6.9"
  }
 },
 "nbformat": 4,
 "nbformat_minor": 4
}
